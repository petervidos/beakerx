{
 "cells": [
  {
   "cell_type": "code",
   "execution_count": 1,
   "id": "47fc70dc-ff17-4530-8afd-606d19af5366",
   "metadata": {},
   "outputs": [],
   "source": [
    "%%python\n",
    "#!pip install ipyvizzu\n",
    "import pandas as pd\n",
    "data_frame = pd.read_csv(\"https://raw.githubusercontent.com/vizzuhq/vizzu-workshops/main/2023-03-07-PyData-London/data/music.csv\", dtype={\"Year\": str}\n",
    "                        )"
   ]
  },
  {
   "cell_type": "code",
   "execution_count": 2,
   "id": "abeae774-3134-45df-be8e-b9d65866b9e9",
   "metadata": {},
   "outputs": [],
   "source": [
    "beakerx.linechart = [\n",
    "  x: 'Year',\n",
    "  y: ['Format','Revenue[$]'],\n",
    "  color: 'Format',\n",
    "  geometry: 'line',\n",
    "  title: 'Revenue by Music Format 1973-2020'\n",
    "]\n",
    "\n",
    "beakerx.streamgraph = [\n",
    "  x: 'Year',\n",
    "  y: ['Format','Revenue[$]'],\n",
    "  color: 'Format',\n",
    "  geometry: 'area',\n",
    "  align: 'center'\n",
    "]\n",
    "\n",
    "beakerx.splittedBar = [\n",
    "  x: 'Year',\n",
    "  y: ['Format','Revenue[$]'],\n",
    "  color: 'Format',\n",
    "  geometry: 'rectangle',\n",
    "  align: 'none'\n",
    "]\n",
    "\n",
    "beakerx.barchart = [\n",
    "  x: 'Revenue[$]',\n",
    "  y: 'Format',\n",
    "  color: 'Format',\n",
    "  geometry: 'rectangle',\n",
    "  align: 'none',\n",
    "  split: false\n",
    "]\n",
    "\n",
    "OutputCell.HIDDEN"
   ]
  },
  {
   "cell_type": "code",
   "execution_count": 3,
   "id": "b1f6e648-4fd2-4d14-baa8-e867c565ab03",
   "metadata": {},
   "outputs": [],
   "source": [
    "%%python\n",
    "from ipyvizzu import Chart, Data, Config, Style\n",
    "\n",
    "data = Data()\n",
    "data.add_data_frame(data_frame)\n",
    "\n",
    "style = Style({\n",
    "        \"title\": {\"fontSize\": \"2.5em\"},\n",
    "        \"plot\": {\n",
    "            \"marker\": { \n",
    "                \"colorPalette\": \"#b74c20FF #c47f58FF #1c9761FF #ea4549FF #875792FF #3562b6FF #ee7c34FF #efae3aFF\",\n",
    "                'label' :{ \n",
    "                    'numberFormat' : 'prefixed',\n",
    "                    'maxFractionDigits' : '1',\n",
    "                    'numberScale':'shortScaleSymbolUS'\n",
    "                }\n",
    "            },\n",
    "            \"xAxis\": { \"label\": { \"angle\": 2.0, 'numberScale':'shortScaleSymbolUS'},'title' :{ 'color' : '#00000000'}},\n",
    "            \"yAxis\": { \"label\": { 'numberScale':'shortScaleSymbolUS'}}  \n",
    "        }\n",
    "    }) \n",
    "\n",
    "#Set a handler that prevents showing the year values that are not divisible by 5\n",
    "handler = \"\"\"\n",
    "let Year = parseFloat(event.data.text);\n",
    "if (!isNaN(Year) && Year > 1950 && Year < 2020 && Year % 5 !== 0) {\n",
    "    event.preventDefault();\n",
    "}\n",
    "\"\"\""
   ]
  },
  {
   "cell_type": "code",
   "execution_count": 4,
   "id": "0fe4db97-b098-4156-a5e2-a51af1759f47",
   "metadata": {},
   "outputs": [
    {
     "data": {
      "application/javascript": [
       "if (!window.IpyVizzu) {\n",
       "  class IpyVizzu {\n",
       "    constructor() {\n",
       "      IpyVizzu.inhibitScroll = false;\n",
       "      IpyVizzu.nbconvert = false;\n",
       "      document.addEventListener(\n",
       "        \"wheel\",\n",
       "        (evt) => {\n",
       "          IpyVizzu.inhibitScroll = true;\n",
       "        },\n",
       "        true\n",
       "      );\n",
       "      document.addEventListener(\n",
       "        \"keydown\",\n",
       "        (evt) => {\n",
       "          IpyVizzu.inhibitScroll = true;\n",
       "        },\n",
       "        true\n",
       "      );\n",
       "      document.addEventListener(\n",
       "        \"touchstart\",\n",
       "        (evt) => {\n",
       "          IpyVizzu.inhibitScroll = true;\n",
       "        },\n",
       "        true\n",
       "      );\n",
       "\n",
       "      this.elements = {};\n",
       "      this.charts = {};\n",
       "      this.controls = {};\n",
       "\n",
       "      this.storage = {};\n",
       "      this.displays = {};\n",
       "\n",
       "      this.events = {};\n",
       "      this.loaded = {};\n",
       "      this.libs = {};\n",
       "    }\n",
       "\n",
       "    static clearInhibitScroll(element) {\n",
       "      if (IpyVizzu.nbconvert) IpyVizzu._hide(element);\n",
       "      IpyVizzu.inhibitScroll = false;\n",
       "    }\n",
       "\n",
       "    createChart(element, chartId, vizzulib, divWidth, divHeight) {\n",
       "      this.elements[chartId] = document.createElement(\"div\");\n",
       "      this.elements[\n",
       "        chartId\n",
       "      ].style.cssText = `width: ${divWidth}; height: ${divHeight};`;\n",
       "      this.loaded[chartId] = import(vizzulib);\n",
       "      this.charts[chartId] = this.loaded[chartId].then((Vizzu) => {\n",
       "        this.libs[chartId] = Vizzu.default;\n",
       "        const VizzuConstructor = Vizzu.default;\n",
       "        return new VizzuConstructor(this.elements[chartId]).initializing;\n",
       "      });\n",
       "      this._moveHere(chartId, element);\n",
       "    }\n",
       "\n",
       "    animate(\n",
       "      element,\n",
       "      chartId,\n",
       "      animId,\n",
       "      displayTarget,\n",
       "      scrollEnabled,\n",
       "      getChartTarget,\n",
       "      chartAnimOpts\n",
       "    ) {\n",
       "      if (IpyVizzu.nbconvert) IpyVizzu._hide(element);\n",
       "      if (displayTarget === \"end\") this._moveHere(chartId, element);\n",
       "      this.controls[chartId] = this.charts[chartId];\n",
       "      this.charts[chartId] = this.charts[chartId].then((chart) => {\n",
       "        if (displayTarget === \"actual\") this._moveHere(chartId, element);\n",
       "        this._scroll(chartId, scrollEnabled);\n",
       "        let chartTarget = getChartTarget(this.libs[chartId]);\n",
       "        if (typeof chartTarget === \"string\") {\n",
       "          chartTarget = this.storage[chartTarget];\n",
       "        } else if (Array.isArray(chartTarget)) {\n",
       "          for (let i = 0; i < chartTarget.length; i++) {\n",
       "            const target = chartTarget[i].target;\n",
       "            if (typeof target === \"string\") {\n",
       "              chartTarget[i].target = this.storage[target];\n",
       "            }\n",
       "          }\n",
       "        }\n",
       "        chart = chart.animate(chartTarget, chartAnimOpts);\n",
       "        this.controls[animId] = chart;\n",
       "        return chart;\n",
       "      });\n",
       "    }\n",
       "\n",
       "    store(element, chartId, id) {\n",
       "      if (IpyVizzu.nbconvert) IpyVizzu._hide(element);\n",
       "      this.charts[chartId] = this.charts[chartId].then((chart) => {\n",
       "        this.storage[id] = chart.store();\n",
       "        return chart;\n",
       "      });\n",
       "    }\n",
       "\n",
       "    feature(element, chartId, name, enabled) {\n",
       "      if (IpyVizzu.nbconvert) IpyVizzu._hide(element);\n",
       "      this.charts[chartId] = this.charts[chartId].then((chart) => {\n",
       "        chart.feature(name, enabled);\n",
       "        return chart;\n",
       "      });\n",
       "    }\n",
       "\n",
       "    setEvent(element, chartId, id, event, handler) {\n",
       "      if (IpyVizzu.nbconvert) IpyVizzu._hide(element);\n",
       "      this.charts[chartId] = this.charts[chartId].then((chart) => {\n",
       "        this.events[id] = handler;\n",
       "        chart.on(event, this.events[id]);\n",
       "        return chart;\n",
       "      });\n",
       "    }\n",
       "\n",
       "    clearEvent(element, chartId, id, event) {\n",
       "      if (IpyVizzu.nbconvert) IpyVizzu._hide(element);\n",
       "      this.charts[chartId] = this.charts[chartId].then((chart) => {\n",
       "        chart.off(event, this.events[id]);\n",
       "        return chart;\n",
       "      });\n",
       "    }\n",
       "\n",
       "    log(element, chartId, chartProperty) {\n",
       "      if (IpyVizzu.nbconvert) IpyVizzu._hide(element);\n",
       "      this.charts[chartId] = this.charts[chartId].then((chart) => {\n",
       "        console.log(chart[chartProperty]);\n",
       "        return chart;\n",
       "      });\n",
       "    }\n",
       "\n",
       "    control(element, method, prevId, lastId, ...params) {\n",
       "      if (IpyVizzu.nbconvert) IpyVizzu._hide(element);\n",
       "      this.controls[prevId].then(() => {\n",
       "        this.controls[lastId].activated.then((control) => {\n",
       "          if (method === \"seek\") {\n",
       "            const value = params[0];\n",
       "            control[method](value);\n",
       "            return;\n",
       "          }\n",
       "          if (method === \"store\") {\n",
       "            const id = params[0];\n",
       "            this.storage[id] = control[method]();\n",
       "            return;\n",
       "          }\n",
       "          control[method]();\n",
       "        });\n",
       "      });\n",
       "    }\n",
       "\n",
       "    _moveHere(chartId, element) {\n",
       "      if (IpyVizzu.nbconvert)\n",
       "        IpyVizzu._display(this.elements[chartId], element);\n",
       "      element.append(this.elements[chartId]);\n",
       "    }\n",
       "\n",
       "    _scroll(chartId, enabled) {\n",
       "      if (!IpyVizzu.inhibitScroll && enabled) {\n",
       "        this.elements[chartId].scrollIntoView({\n",
       "          behavior: \"auto\",\n",
       "          block: \"center\",\n",
       "        });\n",
       "      }\n",
       "    }\n",
       "\n",
       "    static _hide(element) {\n",
       "      document.getElementById(\n",
       "        element.selector.substring(1)\n",
       "      ).parentNode.style.display = \"none\";\n",
       "    }\n",
       "\n",
       "    static _display(prevElement, element) {\n",
       "      if (prevElement.parentNode) {\n",
       "        prevElement.parentNode.style.display = \"none\";\n",
       "      }\n",
       "      document.getElementById(\n",
       "        element.selector.substring(1)\n",
       "      ).parentNode.style.display = \"flex\";\n",
       "      document.getElementById(\n",
       "        element.selector.substring(1)\n",
       "      ).parentNode.style.margin = \"auto\";\n",
       "    }\n",
       "  }\n",
       "\n",
       "  window.IpyVizzu = IpyVizzu;\n",
       "  window.ipyvizzu = new window.IpyVizzu();\n",
       "}\n"
      ]
     },
     "metadata": {},
     "output_type": "display_data"
    },
    {
     "data": {
      "application/javascript": [
       "window.ipyvizzu.createChart(element, 'c6b0016', 'https://cdn.jsdelivr.net/npm/vizzu@0.7/dist/vizzu.min.js', '100%', '450px');"
      ]
     },
     "metadata": {},
     "output_type": "display_data"
    },
    {
     "data": {
      "application/javascript": [
       "window.ipyvizzu.setEvent(element, 'c6b0016', 'e7191dc', 'plot-axis-label-draw', event => { let Year = parseFloat(event.data.text); if (!isNaN(Year) && Year > 1950 && Year < 2020 && Year % 5 !== 0) { event.preventDefault(); } });"
      ]
     },
     "metadata": {},
     "output_type": "display_data"
    },
    {
     "data": {
      "application/javascript": [
       "window.ipyvizzu.animate(element, 'c6b0016', '98af2d0', 'actual', false, lib => { return {\"data\": {\"series\": [{\"name\": \"Year\", \"type\": \"dimension\", \"values\": [\"1973\", \"1973\", \"1973\", \"1973\", \"1973\", \"1973\", \"1973\", \"1973\", \"1974\", \"1974\", \"1974\", \"1974\", \"1974\", \"1974\", \"1974\", \"1974\", \"1975\", \"1975\", \"1975\", \"1975\", \"1975\", \"1975\", \"1975\", \"1975\", \"1976\", \"1976\", \"1976\", \"1976\", \"1976\", \"1976\", \"1976\", \"1976\", \"1977\", \"1977\", \"1977\", \"1977\", \"1977\", \"1977\", \"1977\", \"1977\", \"1978\", \"1978\", \"1978\", \"1978\", \"1978\", \"1978\", \"1978\", \"1978\", \"1979\", \"1979\", \"1979\", \"1979\", \"1979\", \"1979\", \"1979\", \"1979\", \"1980\", \"1980\", \"1980\", \"1980\", \"1980\", \"1980\", \"1980\", \"1980\", \"1981\", \"1981\", \"1981\", \"1981\", \"1981\", \"1981\", \"1981\", \"1981\", \"1982\", \"1982\", \"1982\", \"1982\", \"1982\", \"1982\", \"1982\", \"1982\", \"1983\", \"1983\", \"1983\", \"1983\", \"1983\", \"1983\", \"1983\", \"1983\", \"1984\", \"1984\", \"1984\", \"1984\", \"1984\", \"1984\", \"1984\", \"1984\", \"1985\", \"1985\", \"1985\", \"1985\", \"1985\", \"1985\", \"1985\", \"1985\", \"1986\", \"1986\", \"1986\", \"1986\", \"1986\", \"1986\", \"1986\", \"1986\", \"1987\", \"1987\", \"1987\", \"1987\", \"1987\", \"1987\", \"1987\", \"1987\", \"1988\", \"1988\", \"1988\", \"1988\", \"1988\", \"1988\", \"1988\", \"1988\", \"1989\", \"1989\", \"1989\", \"1989\", \"1989\", \"1989\", \"1989\", \"1989\", \"1990\", \"1990\", \"1990\", \"1990\", \"1990\", \"1990\", \"1990\", \"1990\", \"1991\", \"1991\", \"1991\", \"1991\", \"1991\", \"1991\", \"1991\", \"1991\", \"1992\", \"1992\", \"1992\", \"1992\", \"1992\", \"1992\", \"1992\", \"1992\", \"1993\", \"1993\", \"1993\", \"1993\", \"1993\", \"1993\", \"1993\", \"1993\", \"1994\", \"1994\", \"1994\", \"1994\", \"1994\", \"1994\", \"1994\", \"1994\", \"1995\", \"1995\", \"1995\", \"1995\", \"1995\", \"1995\", \"1995\", \"1995\", \"1996\", \"1996\", \"1996\", \"1996\", \"1996\", \"1996\", \"1996\", \"1996\", \"1997\", \"1997\", \"1997\", \"1997\", \"1997\", \"1997\", \"1997\", \"1997\", \"1998\", \"1998\", \"1998\", \"1998\", \"1998\", \"1998\", \"1998\", \"1998\", \"1999\", \"1999\", \"1999\", \"1999\", \"1999\", \"1999\", \"1999\", \"1999\", \"2000\", \"2000\", \"2000\", \"2000\", \"2000\", \"2000\", \"2000\", \"2000\", \"2001\", \"2001\", \"2001\", \"2001\", \"2001\", \"2001\", \"2001\", \"2001\", \"2002\", \"2002\", \"2002\", \"2002\", \"2002\", \"2002\", \"2002\", \"2002\", \"2003\", \"2003\", \"2003\", \"2003\", \"2003\", \"2003\", \"2003\", \"2003\", \"2004\", \"2004\", \"2004\", \"2004\", \"2004\", \"2004\", \"2004\", \"2004\", \"2005\", \"2005\", \"2005\", \"2005\", \"2005\", \"2005\", \"2005\", \"2005\", \"2006\", \"2006\", \"2006\", \"2006\", \"2006\", \"2006\", \"2006\", \"2006\", \"2007\", \"2007\", \"2007\", \"2007\", \"2007\", \"2007\", \"2007\", \"2007\", \"2008\", \"2008\", \"2008\", \"2008\", \"2008\", \"2008\", \"2008\", \"2008\", \"2009\", \"2009\", \"2009\", \"2009\", \"2009\", \"2009\", \"2009\", \"2009\", \"2010\", \"2010\", \"2010\", \"2010\", \"2010\", \"2010\", \"2010\", \"2010\", \"2011\", \"2011\", \"2011\", \"2011\", \"2011\", \"2011\", \"2011\", \"2011\", \"2012\", \"2012\", \"2012\", \"2012\", \"2012\", \"2012\", \"2012\", \"2012\", \"2013\", \"2013\", \"2013\", \"2013\", \"2013\", \"2013\", \"2013\", \"2013\", \"2014\", \"2014\", \"2014\", \"2014\", \"2014\", \"2014\", \"2014\", \"2014\", \"2015\", \"2015\", \"2015\", \"2015\", \"2015\", \"2015\", \"2015\", \"2015\", \"2016\", \"2016\", \"2016\", \"2016\", \"2016\", \"2016\", \"2016\", \"2016\", \"2017\", \"2017\", \"2017\", \"2017\", \"2017\", \"2017\", \"2017\", \"2017\", \"2018\", \"2018\", \"2018\", \"2018\", \"2018\", \"2018\", \"2018\", \"2018\", \"2019\", \"2019\", \"2019\", \"2019\", \"2019\", \"2019\", \"2019\", \"2019\", \"2020\", \"2020\", \"2020\", \"2020\", \"2020\", \"2020\", \"2020\", \"2020\"]}, {\"name\": \"Format\", \"type\": \"dimension\", \"values\": [\"DVD\", \"Other\", \"Tape\", \"Download\", \"Streaming\", \"Cassette\", \"Vinyl\", \"CD\", \"DVD\", \"Other\", \"Tape\", \"Download\", \"Streaming\", \"Cassette\", \"Vinyl\", \"CD\", \"DVD\", \"Other\", \"Tape\", \"Download\", \"Streaming\", \"Cassette\", \"Vinyl\", \"CD\", \"DVD\", \"Other\", \"Tape\", \"Download\", \"Streaming\", \"Cassette\", \"Vinyl\", \"CD\", \"DVD\", \"Other\", \"Tape\", \"Download\", \"Streaming\", \"Cassette\", \"Vinyl\", \"CD\", \"DVD\", \"Other\", \"Tape\", \"Download\", \"Streaming\", \"Cassette\", \"Vinyl\", \"CD\", \"DVD\", \"Other\", \"Tape\", \"Download\", \"Streaming\", \"Cassette\", \"Vinyl\", \"CD\", \"DVD\", \"Other\", \"Tape\", \"Download\", \"Streaming\", \"Cassette\", \"Vinyl\", \"CD\", \"DVD\", \"Other\", \"Tape\", \"Download\", \"Streaming\", \"Cassette\", \"Vinyl\", \"CD\", \"DVD\", \"Other\", \"Tape\", \"Download\", \"Streaming\", \"Cassette\", \"Vinyl\", \"CD\", \"DVD\", \"Other\", \"Tape\", \"Download\", \"Streaming\", \"Cassette\", \"Vinyl\", \"CD\", \"DVD\", \"Other\", \"Tape\", \"Download\", \"Streaming\", \"Cassette\", \"Vinyl\", \"CD\", \"DVD\", \"Other\", \"Tape\", \"Download\", \"Streaming\", \"Cassette\", \"Vinyl\", \"CD\", \"DVD\", \"Other\", \"Tape\", \"Download\", \"Streaming\", \"Cassette\", \"Vinyl\", \"CD\", \"DVD\", \"Other\", \"Tape\", \"Download\", \"Streaming\", \"Cassette\", \"Vinyl\", \"CD\", \"DVD\", \"Other\", \"Tape\", \"Download\", \"Streaming\", \"Cassette\", \"Vinyl\", \"CD\", \"DVD\", \"Other\", \"Tape\", \"Download\", \"Streaming\", \"Cassette\", \"Vinyl\", \"CD\", \"DVD\", \"Other\", \"Tape\", \"Download\", \"Streaming\", \"Cassette\", \"Vinyl\", \"CD\", \"DVD\", \"Other\", \"Tape\", \"Download\", \"Streaming\", \"Cassette\", \"Vinyl\", \"CD\", \"DVD\", \"Other\", \"Tape\", \"Download\", \"Streaming\", \"Cassette\", \"Vinyl\", \"CD\", \"DVD\", \"Other\", \"Tape\", \"Download\", \"Streaming\", \"Cassette\", \"Vinyl\", \"CD\", \"DVD\", \"Other\", \"Tape\", \"Download\", \"Streaming\", \"Cassette\", \"Vinyl\", \"CD\", \"DVD\", \"Other\", \"Tape\", \"Download\", \"Streaming\", \"Cassette\", \"Vinyl\", \"CD\", \"DVD\", \"Other\", \"Tape\", \"Download\", \"Streaming\", \"Cassette\", \"Vinyl\", \"CD\", \"DVD\", \"Other\", \"Tape\", \"Download\", \"Streaming\", \"Cassette\", \"Vinyl\", \"CD\", \"DVD\", \"Other\", \"Tape\", \"Download\", \"Streaming\", \"Cassette\", \"Vinyl\", \"CD\", \"DVD\", \"Other\", \"Tape\", \"Download\", \"Streaming\", \"Cassette\", \"Vinyl\", \"CD\", \"DVD\", \"Other\", \"Tape\", \"Download\", \"Streaming\", \"Cassette\", \"Vinyl\", \"CD\", \"DVD\", \"Other\", \"Tape\", \"Download\", \"Streaming\", \"Cassette\", \"Vinyl\", \"CD\", \"DVD\", \"Other\", \"Tape\", \"Download\", \"Streaming\", \"Cassette\", \"Vinyl\", \"CD\", \"DVD\", \"Other\", \"Tape\", \"Download\", \"Streaming\", \"Cassette\", \"Vinyl\", \"CD\", \"DVD\", \"Other\", \"Tape\", \"Download\", \"Streaming\", \"Cassette\", \"Vinyl\", \"CD\", \"DVD\", \"Other\", \"Tape\", \"Download\", \"Streaming\", \"Cassette\", \"Vinyl\", \"CD\", \"DVD\", \"Other\", \"Tape\", \"Download\", \"Streaming\", \"Cassette\", \"Vinyl\", \"CD\", \"DVD\", \"Other\", \"Tape\", \"Download\", \"Streaming\", \"Cassette\", \"Vinyl\", \"CD\", \"DVD\", \"Other\", \"Tape\", \"Download\", \"Streaming\", \"Cassette\", \"Vinyl\", \"CD\", \"DVD\", \"Other\", \"Tape\", \"Download\", \"Streaming\", \"Cassette\", \"Vinyl\", \"CD\", \"DVD\", \"Other\", \"Tape\", \"Download\", \"Streaming\", \"Cassette\", \"Vinyl\", \"CD\", \"DVD\", \"Other\", \"Tape\", \"Download\", \"Streaming\", \"Cassette\", \"Vinyl\", \"CD\", \"DVD\", \"Other\", \"Tape\", \"Download\", \"Streaming\", \"Cassette\", \"Vinyl\", \"CD\", \"DVD\", \"Other\", \"Tape\", \"Download\", \"Streaming\", \"Cassette\", \"Vinyl\", \"CD\", \"DVD\", \"Other\", \"Tape\", \"Download\", \"Streaming\", \"Cassette\", \"Vinyl\", \"CD\", \"DVD\", \"Other\", \"Tape\", \"Download\", \"Streaming\", \"Cassette\", \"Vinyl\", \"CD\", \"DVD\", \"Other\", \"Tape\", \"Download\", \"Streaming\", \"Cassette\", \"Vinyl\", \"CD\", \"DVD\", \"Other\", \"Tape\", \"Download\", \"Streaming\", \"Cassette\", \"Vinyl\", \"CD\", \"DVD\", \"Other\", \"Tape\", \"Download\", \"Streaming\", \"Cassette\", \"Vinyl\", \"CD\", \"DVD\", \"Other\", \"Tape\", \"Download\", \"Streaming\", \"Cassette\", \"Vinyl\", \"CD\", \"DVD\", \"Other\", \"Tape\", \"Download\", \"Streaming\", \"Cassette\", \"Vinyl\", \"CD\"]}, {\"name\": \"Revenue[$]\", \"type\": \"measure\", \"values\": [0.0, 0.0, 2941000000.0, 0.0, 0.0, 443000000.0, 8371000000.0, 0.0, 0.0, 0.0, 2953000000.0, 0.0, 0.0, 458000000.0, 8137000000.0, 0.0, 0.0, 0.0, 2854000000.0, 0.0, 0.0, 475000000.0, 8161000000.0, 0.0, 0.0, 0.0, 3108000000.0, 0.0, 0.0, 663000000.0, 8679000000.0, 0.0, 0.0, 0.0, 3464000000.0, 0.0, 0.0, 1066000000.0, 10422000000.0, 0.0, 0.0, 0.0, 3763000000.0, 0.0, 0.0, 1785000000.0, 10851000000.0, 0.0, 0.0, 0.0, 2439000000.0, 0.0, 0.0, 2070000000.0, 8594000000.0, 0.0, 0.0, 0.0, 1655000000.0, 0.0, 0.0, 2214000000.0, 7695000000.0, 0.0, 0.0, 0.0, 891000000.0, 0.0, 0.0, 3026000000.0, 7397000000.0, 0.0, 0.0, 0.0, 97000000.0, 0.0, 0.0, 3713000000.0, 5922000000.0, 0.0, 0.0, 0.0, 0.0, 0.0, 0.0, 4706000000.0, 5089000000.0, 45000000.0, 0.0, 0.0, 0.0, 0.0, 0.0, 5938000000.0, 4602000000.0, 257000000.0, 0.0, 0.0, 0.0, 0.0, 0.0, 5800000000.0, 3756000000.0, 937000000.0, 0.0, 0.0, 0.0, 0.0, 0.0, 5902000000.0, 2860000000.0, 2196000000.0, 0.0, 0.0, 0.0, 0.0, 0.0, 6776000000.0, 2270000000.0, 3631000000.0, 0.0, 0.0, 0.0, 0.0, 0.0, 7531000000.0, 1559000000.0, 4594000000.0, 0.0, 241000000.0, 0.0, 0.0, 0.0, 7389000000.0, 703000000.0, 5401000000.0, 0.0, 341000000.0, 0.0, 0.0, 0.0, 7387000000.0, 358000000.0, 6847000000.0, 0.0, 224000000.0, 0.0, 0.0, 0.0, 6176000000.0, 177000000.0, 8309000000.0, 0.0, 290000000.0, 0.0, 0.0, 0.0, 6300000000.0, 147000000.0, 9909000000.0, 0.0, 382000000.0, 0.0, 0.0, 0.0, 5757000000.0, 111000000.0, 11744000000.0, 0.0, 404000000.0, 0.0, 0.0, 0.0, 5678000000.0, 114000000.0, 14880000000.0, 0.0, 374000000.0, 0.0, 0.0, 0.0, 4313000000.0, 122000000.0, 16113000000.0, 0.0, 389000000.0, 0.0, 0.0, 0.0, 3455000000.0, 139000000.0, 16691000000.0, 0.0, 522000000.0, 0.0, 0.0, 0.0, 2671000000.0, 111000000.0, 16428000000.0, 0.0, 807000000.0, 0.0, 0.0, 0.0, 2404000000.0, 95000000.0, 18465000000.0, 0.0, 585000000.0, 0.0, 0.0, 0.0, 1724000000.0, 93000000.0, 20255000000.0, 0.0, 424000000.0, 0.0, 0.0, 0.0, 948000000.0, 81000000.0, 20075000000.0, 8800000.0, 481000000.0, 0.0, 0.0, 0.0, 531000000.0, 86000000.0, 18982000000.0, 12000000.0, 415000000.0, 0.0, 0.0, 0.0, 302000000.0, 65000000.0, 17355000000.0, 11000000.0, 562000000.0, 0.0, 0.0, 0.0, 152000000.0, 61000000.0, 15888000000.0, 8900000.0, 832000000.0, 0.0, 251000000.0, 9500000.0, 32000000.0, 54000000.0, 15726000000.0, 15000000.0, 1358000000.0, 0.0, 666000000.0, 225000000.0, 17000000.0, 36000000.0, 13969000000.0, 3100000.0, 1575000000.0, 0.0, 1125000000.0, 307000000.0, 4800000.0, 33000000.0, 12049000000.0, 3500000.0, 1927000000.0, 0.0, 1669000000.0, 337000000.0, 3700000.0, 34000000.0, 9324000000.0, 1400000.0, 1451000000.0, 0.0, 2054000000.0, 386000000.0, 1100000.0, 72000000.0, 6585000000.0, 1900000.0, 1351000000.0, 0.0, 2361000000.0, 436000000.0, 0.0, 80000000.0, 5217000000.0, 1100000.0, 974000000.0, 0.0, 2665000000.0, 548000000.0, 0.0, 108000000.0, 4028000000.0, 300000.0, 721000000.0, 0.0, 3021000000.0, 752000000.0, 0.0, 143000000.0, 3573000000.0, 200000.0, 515000000.0, 0.0, 3235000000.0, 1164000000.0, 0.0, 187000000.0, 2807000000.0, 0.0, 445000000.0, 0.0, 3136000000.0, 1616000000.0, 0.0, 237000000.0, 2382000000.0, 2300000.0, 381000000.0, 0.0, 2719000000.0, 1998000000.0, 0.0, 273000000.0, 1947000000.0, 5900000.0, 362000000.0, 0.0, 2464000000.0, 2546000000.0, 0.0, 370000000.0, 1580000000.0, 3100000.0, 357000000.0, 0.0, 1930000000.0, 4179000000.0, 0.0, 389000000.0, 1221000000.0, 300000.0, 325000000.0, 0.0, 1412000000.0, 5721000000.0, 0.0, 417000000.0, 1103000000.0, 300000.0, 351000000.0, 0.0, 1038000000.0, 7491000000.0, 0.0, 438000000.0, 718000000.0, 1300000.0, 333000000.0, 0.0, 810000000.0, 8992000000.0, 0.0, 492000000.0, 639000000.0, 1800000.0, 314000000.0, 0.0, 653000000.0, 10075000000.0, 0.0, 626000000.0, 484000000.0]}]}, \"style\": {\"title\": {\"fontSize\": \"2.5em\"}, \"plot\": {\"marker\": {\"colorPalette\": \"#b74c20FF #c47f58FF #1c9761FF #ea4549FF #875792FF #3562b6FF #ee7c34FF #efae3aFF\", \"label\": {\"numberFormat\": \"prefixed\", \"maxFractionDigits\": \"1\", \"numberScale\": \"shortScaleSymbolUS\"}}, \"xAxis\": {\"label\": {\"angle\": 2.0, \"numberScale\": \"shortScaleSymbolUS\"}, \"title\": {\"color\": \"#00000000\"}}, \"yAxis\": {\"label\": {\"numberScale\": \"shortScaleSymbolUS\"}}}}} }, undefined);"
      ]
     },
     "metadata": {},
     "output_type": "display_data"
    },
    {
     "data": {
      "application/javascript": [
       "window.ipyvizzu.animate(element, 'c6b0016', '3ee649c', 'actual', false, lib => { return {\"config\": {\"x\": \"Year\", \"y\": [\"Format\", \"Revenue[$]\"], \"color\": \"Format\", \"geometry\": \"line\", \"title\": \"Revenue by Music Format 1973-2020\"}} }, undefined);"
      ]
     },
     "metadata": {},
     "output_type": "display_data"
    },
    {
     "data": {
      "application/javascript": [
       "window.ipyvizzu.animate(element, 'c6b0016', 'e0b9547', 'actual', false, lib => { return {\"config\": {\"x\": \"Year\", \"y\": [\"Format\", \"Revenue[$]\"], \"color\": \"Format\", \"geometry\": \"area\", \"align\": \"center\"}} }, {\"delay\": 1});"
      ]
     },
     "metadata": {},
     "output_type": "display_data"
    },
    {
     "data": {
      "application/javascript": [
       "window.ipyvizzu.animate(element, 'c6b0016', '8e36b41', 'actual', false, lib => { return {\"config\": {\"split\": true}} }, {\"delay\": 1});"
      ]
     },
     "metadata": {},
     "output_type": "display_data"
    },
    {
     "data": {
      "application/javascript": [
       "window.ipyvizzu.animate(element, 'c6b0016', '8cda71d', 'actual', false, lib => { return {\"data\": {\"filter\": record => { return (record.Format == 'Vinyl' || record.Format == 'Streaming') }}, \"config\": {\"title\": \"Revenue of Vinyl & Streaming 1973-2020\"}} }, {\"delay\": 1});"
      ]
     },
     "metadata": {},
     "output_type": "display_data"
    },
    {
     "data": {
      "application/javascript": [
       "window.ipyvizzu.animate(element, 'c6b0016', '51755b3', 'actual', false, lib => { return {\"config\": {\"x\": \"Year\", \"y\": [\"Format\", \"Revenue[$]\"], \"color\": \"Format\", \"geometry\": \"rectangle\", \"align\": \"none\"}} }, {\"delay\": 1});"
      ]
     },
     "metadata": {},
     "output_type": "display_data"
    },
    {
     "data": {
      "application/javascript": [
       "window.ipyvizzu.animate(element, 'c6b0016', '4db59c4', 'actual', false, lib => { return {\"config\": {\"x\": \"Revenue[$]\", \"y\": \"Format\", \"color\": \"Format\", \"geometry\": \"rectangle\", \"align\": \"none\", \"split\": false}} }, {\"regroupStrategy\": \"drilldown\"});"
      ]
     },
     "metadata": {},
     "output_type": "display_data"
    },
    {
     "data": {
      "application/javascript": [
       "window.ipyvizzu.animate(element, 'c6b0016', '0381277', 'actual', false, lib => { return {\"config\": {\"label\": \"Revenue[$]\"}} }, undefined);"
      ]
     },
     "metadata": {},
     "output_type": "display_data"
    }
   ],
   "source": [
    "%%python\n",
    "from beakerx.object import beakerx\n",
    "\n",
    "chart = Chart(width=\"100%\", height=\"450px\")\n",
    "chart.on(\"plot-axis-label-draw\", handler)\n",
    "chart.animate(data,style)\n",
    "\n",
    "chart.animate(Config(beakerx.linechart))\n",
    "chart.animate(Config(beakerx.streamgraph),delay=1)\n",
    "chart.animate(Config({'split':True}),delay=1)\n",
    "chart.animate(Data.filter(\"record.Format == 'Vinyl' || record.Format == 'Streaming'\"),Config({'title': 'Revenue of Vinyl & Streaming 1973-2020'}),delay=1)\n",
    "chart.animate(Config(beakerx.splittedBar),delay=1)\n",
    "chart.animate(Config(beakerx.barchart),regroupStrategy='drilldown')\n",
    "chart.animate(Config({'label':'Revenue[$]'}))"
   ]
  }
 ],
 "metadata": {
  "kernelspec": {
   "display_name": "Groovy",
   "language": "groovy",
   "name": "groovy"
  },
  "language_info": {
   "codemirror_mode": "groovy",
   "file_extension": ".groovy",
   "mimetype": "",
   "name": "Groovy",
   "nbconverter_exporter": "",
   "version": "2.5.6"
  }
 },
 "nbformat": 4,
 "nbformat_minor": 5
}
